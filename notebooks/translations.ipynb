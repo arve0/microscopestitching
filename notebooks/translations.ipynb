{
 "cells": [
  {
   "cell_type": "code",
   "execution_count": 1,
   "metadata": {
    "collapsed": false
   },
   "outputs": [
    {
     "data": {
      "text/plain": [
       "ImageCollection(\n",
       "  Image(\"r0-c0.png\", row=0, col=0),\n",
       "  Image(\"r0-c1.png\", row=0, col=1),\n",
       "  Image(\"r0-c2.png\", row=0, col=2),\n",
       "  Image(\"r1-c0.png\", row=1, col=0),\n",
       "  Image(\"r1-c1.png\", row=1, col=1),\n",
       "  Image(\"r1-c2.png\", row=1, col=2),\n",
       "  Image(\"r2-c0.png\", row=2, col=0),\n",
       "  Image(\"r2-c1.png\", row=2, col=1),\n",
       "  Image(\"r2-c2.png\", row=2, col=2),\n",
       "  Image(\"r3-c0.png\", row=3, col=0),\n",
       "  Image(\"r3-c1.png\", row=3, col=1),\n",
       "  Image(\"r3-c2.png\", row=3, col=2))"
      ]
     },
     "execution_count": 1,
     "metadata": {},
     "output_type": "execute_result"
    }
   ],
   "source": [
    "%matplotlib inline\n",
    "\n",
    "from microscopestitching import ImageCollection, stitch, calc_translations_parallel\n",
    "from skimage.io import imsave, imshow\n",
    "\n",
    "def img_tuple(img):\n",
    "    row = int(img[1])\n",
    "    col = int(img[4])\n",
    "    return img, row, col\n",
    "\n",
    "files = !ls r*png\n",
    "# list of (path, row, column)\n",
    "images = [img_tuple(f) for f in files]\n",
    "ic = ImageCollection(images)\n",
    "ic"
   ]
  },
  {
   "cell_type": "code",
   "execution_count": 2,
   "metadata": {
    "collapsed": false
   },
   "outputs": [
    {
     "data": {
      "text/plain": [
       "Image(\"r0-c0.png\", row=0, col=0)"
      ]
     },
     "execution_count": 2,
     "metadata": {},
     "output_type": "execute_result"
    }
   ],
   "source": [
    "ic[0]"
   ]
  },
  {
   "cell_type": "code",
   "execution_count": 3,
   "metadata": {
    "collapsed": false
   },
   "outputs": [
    {
     "name": "stdout",
     "output_type": "stream",
     "text": [
      "CPU times: user 1.83 s, sys: 292 ms, total: 2.13 s\n",
      "Wall time: 2.14 s\n"
     ]
    }
   ],
   "source": [
    "# calc translation single core\n",
    "%time tr = ic.translations # top left image excluded"
   ]
  },
  {
   "cell_type": "code",
   "execution_count": 4,
   "metadata": {
    "collapsed": false
   },
   "outputs": [
    {
     "name": "stdout",
     "output_type": "stream",
     "text": [
      "CPU times: user 67 µs, sys: 19 µs, total: 86 µs\n",
      "Wall time: 75.1 µs\n"
     ]
    }
   ],
   "source": [
    "# results are cached\n",
    "%time tr = ic.translations"
   ]
  },
  {
   "cell_type": "code",
   "execution_count": 5,
   "metadata": {
    "collapsed": false
   },
   "outputs": [
    {
     "name": "stdout",
     "output_type": "stream",
     "text": [
      "CPU times: user 47.1 ms, sys: 22 ms, total: 69.1 ms\n",
      "Wall time: 900 ms\n"
     ]
    }
   ],
   "source": [
    "# calc translations on all cpu cores\n",
    "ic = ImageCollection(images) # prevent using cached values\n",
    "%time translations = calc_translations_parallel(ic)"
   ]
  },
  {
   "cell_type": "code",
   "execution_count": 6,
   "metadata": {
    "collapsed": false
   },
   "outputs": [
    {
     "data": {
      "text/plain": [
       "(-58.0, -58.0)"
      ]
     },
     "execution_count": 6,
     "metadata": {},
     "output_type": "execute_result"
    }
   ],
   "source": [
    "ic.median_translation()"
   ]
  }
 ],
 "metadata": {
  "kernelspec": {
   "display_name": "Python 3",
   "language": "python",
   "name": "python3"
  },
  "language_info": {
   "codemirror_mode": {
    "name": "ipython",
    "version": 3
   },
   "file_extension": ".py",
   "mimetype": "text/x-python",
   "name": "python",
   "nbconvert_exporter": "python",
   "pygments_lexer": "ipython3",
   "version": "3.4.3"
  }
 },
 "nbformat": 4,
 "nbformat_minor": 0
}
